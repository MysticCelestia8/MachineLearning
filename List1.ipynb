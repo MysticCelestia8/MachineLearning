{
  "nbformat": 4,
  "nbformat_minor": 0,
  "metadata": {
    "colab": {
      "provenance": [],
      "authorship_tag": "ABX9TyMYDMHIM6T7Nqx9KwmRb3Qh",
      "include_colab_link": true
    },
    "kernelspec": {
      "name": "python3",
      "display_name": "Python 3"
    },
    "language_info": {
      "name": "python"
    }
  },
  "cells": [
    {
      "cell_type": "markdown",
      "metadata": {
        "id": "view-in-github",
        "colab_type": "text"
      },
      "source": [
        "<a href=\"https://colab.research.google.com/github/MysticCelestia8/MachineLearning/blob/main/List1.ipynb\" target=\"_parent\"><img src=\"https://colab.research.google.com/assets/colab-badge.svg\" alt=\"Open In Colab\"/></a>"
      ]
    },
    {
      "cell_type": "code",
      "execution_count": null,
      "metadata": {
        "colab": {
          "base_uri": "https://localhost:8080/"
        },
        "id": "2QBl76qUi9k0",
        "outputId": "8e942b5c-ebf4-404b-d6bc-fd04dde02385"
      },
      "outputs": [
        {
          "output_type": "stream",
          "name": "stdout",
          "text": [
            "[0, 1, 2, 3, 4, 5, 6, 7, 8, 9]\n"
          ]
        }
      ],
      "source": [
        "li = [i for i in range(10)]\n",
        "print(li)"
      ]
    },
    {
      "cell_type": "code",
      "source": [
        "li = [i^2 for i in range(10)] #bitwise XOR\n",
        "li1 = [li for i in range(10)]\n",
        "print(li)\n",
        "print(\"\")\n",
        "print(li1)"
      ],
      "metadata": {
        "colab": {
          "base_uri": "https://localhost:8080/"
        },
        "id": "NVVVE3mSlKBF",
        "outputId": "daec2679-08fe-452a-93b3-d14a25136d1c"
      },
      "execution_count": null,
      "outputs": [
        {
          "output_type": "stream",
          "name": "stdout",
          "text": [
            "[2, 3, 0, 1, 6, 7, 4, 5, 10, 11]\n",
            "\n",
            "[[2, 3, 0, 1, 6, 7, 4, 5, 10, 11], [2, 3, 0, 1, 6, 7, 4, 5, 10, 11], [2, 3, 0, 1, 6, 7, 4, 5, 10, 11], [2, 3, 0, 1, 6, 7, 4, 5, 10, 11], [2, 3, 0, 1, 6, 7, 4, 5, 10, 11], [2, 3, 0, 1, 6, 7, 4, 5, 10, 11], [2, 3, 0, 1, 6, 7, 4, 5, 10, 11], [2, 3, 0, 1, 6, 7, 4, 5, 10, 11], [2, 3, 0, 1, 6, 7, 4, 5, 10, 11], [2, 3, 0, 1, 6, 7, 4, 5, 10, 11]]\n"
          ]
        }
      ]
    },
    {
      "cell_type": "code",
      "source": [
        "R = (int)(input(\"Enter number of rows\"))\n",
        "C = (int)(input(\"Enter number of Columns\"))\n",
        "\n",
        "l2 = [i for i in range(R)]\n",
        "l3 = [l2 for i in range(C)]\n",
        "print(l3)"
      ],
      "metadata": {
        "colab": {
          "base_uri": "https://localhost:8080/"
        },
        "id": "2KT1F2qfmdhL",
        "outputId": "972deb2b-42e8-44ad-de3a-e0961daebe34"
      },
      "execution_count": null,
      "outputs": [
        {
          "output_type": "stream",
          "name": "stdout",
          "text": [
            "Enter number of rows3\n",
            "Enter number of Columns3\n",
            "[[0, 1, 2], [0, 1, 2], [0, 1, 2]] \n",
            "\n"
          ]
        }
      ]
    },
    {
      "cell_type": "code",
      "source": [
        "R = (int)(input(\"Enter number of rows: \"))\n",
        "C = (int)(input(\"Enter number of Columns: \"))\n",
        "l1 = [int(x) for x in input().split()]\n",
        "print(l1)\n",
        "\n",
        "a = [];\n",
        "\n",
        "for i in range(R):\n",
        " a.append([])\n",
        " for j in range(C):\n",
        "  a[i].append(l1[C*i+j]);\n",
        "  print(a);"
      ],
      "metadata": {
        "colab": {
          "base_uri": "https://localhost:8080/"
        },
        "id": "PqDJXotIo-MK",
        "outputId": "bc2696f4-19e8-403a-8164-bf610d47f7cc"
      },
      "execution_count": null,
      "outputs": [
        {
          "output_type": "stream",
          "name": "stdout",
          "text": [
            "Enter number of rows3\n",
            "Enter number of Columns3\n",
            "1 2 3 4 5 6 7 8 9\n",
            "[1, 2, 3, 4, 5, 6, 7, 8, 9]\n",
            "[[1]]\n",
            "[[1, 2]]\n",
            "[[1, 2, 3]]\n",
            "[[1, 2, 3], [4]]\n",
            "[[1, 2, 3], [4, 5]]\n",
            "[[1, 2, 3], [4, 5, 6]]\n",
            "[[1, 2, 3], [4, 5, 6], [7]]\n",
            "[[1, 2, 3], [4, 5, 6], [7, 8]]\n",
            "[[1, 2, 3], [4, 5, 6], [7, 8, 9]]\n"
          ]
        }
      ]
    }
  ]
}